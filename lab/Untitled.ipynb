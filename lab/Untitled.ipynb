{
 "cells": [
  {
   "cell_type": "code",
   "execution_count": 316,
   "metadata": {},
   "outputs": [],
   "source": [
    "import pandas as pd\n",
    "import numpy as np\n",
    "\n",
    "\n",
    "################# helper functions #################\n",
    "\n",
    "# helper functions\n",
    "# 返回第d列\n",
    "def project_data(df, d):\n",
    "    # Return only the d-th column of INPUT\n",
    "    return df.iloc[:, d]\n",
    "\n",
    "# 选择数据\n",
    "def select_data(df, d, val):\n",
    "    # SELECT * FROM INPUT WHERE input.d = val\n",
    "    col_name = df.columns[d]\n",
    "    return df[df[col_name] == val]\n",
    "\n",
    "# 去除第一列\n",
    "def remove_first_dim(df):\n",
    "    # Remove the first dim of the input\n",
    "    return df.iloc[:, 1:]\n",
    "\n",
    "# 取父值所拥有的子值表\n",
    "def slice_data_dim0(df, v):\n",
    "    # syntactic sugar to get R_{ALL} in a less verbose way\n",
    "    df_temp = select_data(df, 0, v)\n",
    "    return remove_first_dim(df_temp)\n",
    "\n",
    "def read_data(filename):\n",
    "    df = pd.read_csv(filename, sep='\\t')\n",
    "    return (df)\n",
    "\n",
    "\n"
   ]
  },
  {
   "cell_type": "code",
   "execution_count": 317,
   "metadata": {},
   "outputs": [],
   "source": [
    "def buc_single_tuple(df):\n",
    "    result = []\n",
    "    head = df.iloc[0].tolist()\n",
    "    epoch = 2**(df.shape[1]-1)\n",
    "    length = df.shape[1]\n",
    "    for i in range(0, epoch):\n",
    "        bin = '{0:0b}'.format(i)\n",
    "        bin = '0'*(length-1-len(bin))+bin\n",
    "        temp = head[:]\n",
    "        for j in range(len(bin)):\n",
    "            if bin[j] == \"1\":\n",
    "                temp[j] = 'ALL'\n",
    "        result.append(temp[:])\n",
    "    return result\n",
    "\n",
    "def buc(df):\n",
    "    if len(df.columns.values) == 1:\n",
    "        return [[sum(df.iloc[:, -1])]]\n",
    "\n",
    "    # dims = [dim1, rest_of_dims]\n",
    "    result = []\n",
    "    dim1_value = sorted(set([x for x in df.iloc[:, 0]]))\n",
    "    for v in dim1_value:\n",
    "        list_v = []\n",
    "        slice_v = slice_data_dim0(df, v)\n",
    "        if slice_v.shape[0] == 1:\n",
    "            v_result = buc_single_tuple(slice_v)\n",
    "        else:\n",
    "            v_result = buc(slice_v)\n",
    "        # 遍历result中每一种可能 加上 dim1的v\n",
    "        for l in v_result:\n",
    "            l.insert(0, v)\n",
    "            list_v.append(l)\n",
    "        result.extend(list_v)\n",
    "\n",
    "    # ALL 那一行加入result中\n",
    "    All_df = remove_first_dim(df)\n",
    "    if All_df.shape == 1:\n",
    "        all_result = buc_single_tuple(All_df)\n",
    "    else:\n",
    "        all_result = buc(All_df)\n",
    "    for e in all_result:\n",
    "        e.insert(0, \"ALL\")\n",
    "        result.append(e)\n",
    "    return result\n",
    "\n",
    "def buc_rec_optimized(df):\n",
    "    result_list = buc(df)\n",
    "    result_pd = pd.DataFrame(result_list, columns = df.columns.values)\n",
    "    return result_pd"
   ]
  },
  {
   "cell_type": "code",
   "execution_count": 318,
   "metadata": {},
   "outputs": [
    {
     "name": "stdout",
     "output_type": "stream",
     "text": [
      "   A  B    M\n",
      "0  1  2  100\n",
      "1  1  3  100\n",
      "2  2  1   20\n"
     ]
    }
   ],
   "source": [
    "input_data = read_data('./asset/a_.txt')\n",
    "# print(input_data, type(input_data))\n",
    "# print(type(input_data.columns.values))\n",
    "d = {'A':[1,1,2], 'B':[2,3,1],'M':[100,100,20]}\n",
    "df = pd.DataFrame(data = d)\n",
    "print(df)\n",
    "# print(sum(df.iloc[:,-1]))\n",
    "# print(df.iloc[:, 1:3])\n",
    "# new_df = pd.DataFrame()\n",
    "# print(new_df)\n",
    "\n"
   ]
  },
  {
   "cell_type": "code",
   "execution_count": 319,
   "metadata": {},
   "outputs": [
    {
     "name": "stdout",
     "output_type": "stream",
     "text": [
      "A     2\n",
      "B     1\n",
      "M    20\n",
      "Name: 2, dtype: int64\n"
     ]
    }
   ],
   "source": [
    "print(df.loc[2,:])"
   ]
  },
  {
   "cell_type": "code",
   "execution_count": 320,
   "metadata": {},
   "outputs": [
    {
     "name": "stdout",
     "output_type": "stream",
     "text": [
      "   B    M\n",
      "0  2  100\n",
      "1  3  100\n"
     ]
    }
   ],
   "source": [
    "print(slice_data_dim0(df, 1))"
   ]
  },
  {
   "cell_type": "code",
   "execution_count": 321,
   "metadata": {},
   "outputs": [
    {
     "data": {
      "text/html": [
       "<div>\n",
       "<style scoped>\n",
       "    .dataframe tbody tr th:only-of-type {\n",
       "        vertical-align: middle;\n",
       "    }\n",
       "\n",
       "    .dataframe tbody tr th {\n",
       "        vertical-align: top;\n",
       "    }\n",
       "\n",
       "    .dataframe thead th {\n",
       "        text-align: right;\n",
       "    }\n",
       "</style>\n",
       "<table border=\"1\" class=\"dataframe\">\n",
       "  <thead>\n",
       "    <tr style=\"text-align: right;\">\n",
       "      <th></th>\n",
       "      <th>A</th>\n",
       "      <th>B</th>\n",
       "      <th>M</th>\n",
       "    </tr>\n",
       "  </thead>\n",
       "  <tbody>\n",
       "    <tr>\n",
       "      <th>0</th>\n",
       "      <td>1</td>\n",
       "      <td>2</td>\n",
       "      <td>100</td>\n",
       "    </tr>\n",
       "    <tr>\n",
       "      <th>1</th>\n",
       "      <td>1</td>\n",
       "      <td>3</td>\n",
       "      <td>100</td>\n",
       "    </tr>\n",
       "    <tr>\n",
       "      <th>2</th>\n",
       "      <td>1</td>\n",
       "      <td>ALL</td>\n",
       "      <td>200</td>\n",
       "    </tr>\n",
       "    <tr>\n",
       "      <th>3</th>\n",
       "      <td>2</td>\n",
       "      <td>1</td>\n",
       "      <td>20</td>\n",
       "    </tr>\n",
       "    <tr>\n",
       "      <th>4</th>\n",
       "      <td>2</td>\n",
       "      <td>ALL</td>\n",
       "      <td>20</td>\n",
       "    </tr>\n",
       "    <tr>\n",
       "      <th>5</th>\n",
       "      <td>ALL</td>\n",
       "      <td>1</td>\n",
       "      <td>20</td>\n",
       "    </tr>\n",
       "    <tr>\n",
       "      <th>6</th>\n",
       "      <td>ALL</td>\n",
       "      <td>2</td>\n",
       "      <td>100</td>\n",
       "    </tr>\n",
       "    <tr>\n",
       "      <th>7</th>\n",
       "      <td>ALL</td>\n",
       "      <td>3</td>\n",
       "      <td>100</td>\n",
       "    </tr>\n",
       "    <tr>\n",
       "      <th>8</th>\n",
       "      <td>ALL</td>\n",
       "      <td>ALL</td>\n",
       "      <td>220</td>\n",
       "    </tr>\n",
       "  </tbody>\n",
       "</table>\n",
       "</div>"
      ],
      "text/plain": [
       "     A    B    M\n",
       "0    1    2  100\n",
       "1    1    3  100\n",
       "2    1  ALL  200\n",
       "3    2    1   20\n",
       "4    2  ALL   20\n",
       "5  ALL    1   20\n",
       "6  ALL    2  100\n",
       "7  ALL    3  100\n",
       "8  ALL  ALL  220"
      ]
     },
     "execution_count": 321,
     "metadata": {},
     "output_type": "execute_result"
    }
   ],
   "source": [
    "buc_rec_optimized(df)"
   ]
  },
  {
   "cell_type": "code",
   "execution_count": 322,
   "metadata": {},
   "outputs": [
    {
     "name": "stdout",
     "output_type": "stream",
     "text": [
      "0    2\n",
      "Name: B, dtype: int64\n"
     ]
    }
   ],
   "source": [
    "d2 = {'A':[1], 'B':[2],'C':[3], 'M':[100]}\n",
    "df2 = pd.DataFrame(data = d2)\n",
    "print(df2.iloc[:, 1])"
   ]
  },
  {
   "cell_type": "code",
   "execution_count": 323,
   "metadata": {},
   "outputs": [
    {
     "data": {
      "text/plain": [
       "[[1, 2, 3, 100],\n",
       " [1, 2, 'ALL', 100],\n",
       " [1, 'ALL', 3, 100],\n",
       " [1, 'ALL', 'ALL', 100],\n",
       " ['ALL', 2, 3, 100],\n",
       " ['ALL', 2, 'ALL', 100],\n",
       " ['ALL', 'ALL', 3, 100],\n",
       " ['ALL', 'ALL', 'ALL', 100]]"
      ]
     },
     "execution_count": 323,
     "metadata": {},
     "output_type": "execute_result"
    }
   ],
   "source": [
    "buc_single_tuple(df2)"
   ]
  },
  {
   "cell_type": "code",
   "execution_count": 324,
   "metadata": {},
   "outputs": [
    {
     "name": "stdout",
     "output_type": "stream",
     "text": [
      "     A    B    C    M\n",
      "0    1    2    3  100\n",
      "1    1    2  ALL  100\n",
      "2    1  ALL    3  100\n",
      "3    1  ALL  ALL  100\n",
      "4  ALL    2    3  100\n",
      "5  ALL    2  ALL  100\n",
      "6  ALL  ALL    3  100\n",
      "7  ALL  ALL  ALL  100\n"
     ]
    }
   ],
   "source": [
    "print(buc_rec_optimized(df2))"
   ]
  },
  {
   "cell_type": "code",
   "execution_count": 325,
   "metadata": {},
   "outputs": [
    {
     "name": "stdout",
     "output_type": "stream",
     "text": [
      "10\n",
      "8\n",
      "7\n",
      "6\n",
      "5\n",
      "4\n",
      "3\n",
      "2\n",
      "1\n"
     ]
    }
   ],
   "source": [
    "a = 8\n",
    "print('{0:0b}'.format(2))\n",
    "s = '0'*a\n",
    "for i in range(8,0,-1):\n",
    "    print(i)"
   ]
  },
  {
   "cell_type": "code",
   "execution_count": 326,
   "metadata": {},
   "outputs": [
    {
     "name": "stdout",
     "output_type": "stream",
     "text": [
      "Empty DataFrame\n",
      "Columns: []\n",
      "Index: []\n"
     ]
    }
   ],
   "source": [
    "df3 = pd.DataFrame()\n",
    "print(df3)"
   ]
  },
  {
   "cell_type": "code",
   "execution_count": 332,
   "metadata": {},
   "outputs": [
    {
     "name": "stdout",
     "output_type": "stream",
     "text": [
      "y\n"
     ]
    }
   ],
   "source": [
    "if df3.empty:\n",
    "    print(\"y\")"
   ]
  },
  {
   "cell_type": "code",
   "execution_count": null,
   "metadata": {},
   "outputs": [],
   "source": []
  }
 ],
 "metadata": {
  "kernelspec": {
   "display_name": "Python 3",
   "language": "python",
   "name": "python3"
  },
  "language_info": {
   "codemirror_mode": {
    "name": "ipython",
    "version": 3
   },
   "file_extension": ".py",
   "mimetype": "text/x-python",
   "name": "python",
   "nbconvert_exporter": "python",
   "pygments_lexer": "ipython3",
   "version": "3.8.5"
  }
 },
 "nbformat": 4,
 "nbformat_minor": 4
}
