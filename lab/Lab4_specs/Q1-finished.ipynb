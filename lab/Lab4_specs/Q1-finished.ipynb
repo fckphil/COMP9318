{
 "cells": [
  {
   "cell_type": "code",
   "execution_count": 42,
   "metadata": {},
   "outputs": [
    {
     "data": {
      "text/plain": [
       "SVR(C=5000, degree=1, epsilon=10)"
      ]
     },
     "execution_count": 42,
     "metadata": {},
     "output_type": "execute_result"
    }
   ],
   "source": [
    "import submission\n",
    "import numpy as np\n",
    "import pandas as pd\n",
    "from sklearn.svm import SVR\n",
    "from sklearn.metrics import mean_absolute_error\n",
    "\n",
    "## Parameters settings\n",
    "past_cases_interval = 10\n",
    "past_weather_interval = 10\n",
    "\n",
    "\n",
    "## Read training data\n",
    "train_file = './data/COVID_train_data.csv'\n",
    "train_df = pd.read_csv(train_file)\n",
    "\n",
    "## Read Training labels\n",
    "train_label_file = './data/COVID_train_labels.csv'\n",
    "train_labels_df = pd.read_csv(train_label_file)\n",
    "\n",
    "\n",
    "## Read testing Features\n",
    "test_fea_file = './data/test_features.csv'\n",
    "test_features = pd.read_csv(test_fea_file)\n",
    "\n",
    "\n",
    "## Set hyper-parameters for the SVM Model\n",
    "svm_model = SVR()\n",
    "svm_model.set_params(**{'kernel': 'rbf', 'degree': 1, 'C': 5000,\n",
    "                        'gamma': 'scale', 'coef0': 0.0, 'tol': 0.001, 'epsilon': 10})"
   ]
  },
  {
   "cell_type": "code",
   "execution_count": 89,
   "metadata": {},
   "outputs": [],
   "source": [
    "## Project-Part1\n",
    "import math\n",
    "def predict_COVID_part1(svm_model, train_df, train_labels_df, past_cases_interval, past_weather_interval, test_feature):\n",
    "    #处理 train_df\n",
    "    # [max_temp, max_dew, max_humid, past_cases]\n",
    "\n",
    "    df3 = pd.DataFrame(columns = ['day'], data= [x for x in range(31,193)])\n",
    "    col_names = [\"max_temp\",\"max_dew\",\"max_humid\"]\n",
    "    # 循环列名 i\n",
    "    for i in range(len(col_names)):\n",
    "        # 循环天数 j\n",
    "        for j in range(past_weather_interval,0, -1):\n",
    "            col_name = col_names[i]+\"-\"+str(j)\n",
    "            df3[col_name] = np.nan\n",
    "            # 循环数据 k\n",
    "            for k in range(0,162):\n",
    "                df3.loc[k,col_name] = train_df.loc[df3.loc[k,'day']-j-1, col_names[i]]\n",
    "\n",
    "    for j in range(past_cases_interval,0, -1):\n",
    "        col_name = \"dailly_cases\"+\"-\"+str(j)\n",
    "        df3[col_name] = np.nan\n",
    "        # 循环数据 k\n",
    "        for k in range(0,162):\n",
    "            df3.loc[k,col_name] = train_df.loc[df3.loc[k,'day']-j-1, 'dailly_cases']\n",
    "    \n",
    "    #训练模型\n",
    "    train_data = np.array(df3.drop([\"day\"], axis=1))\n",
    "    train_label = train_labels_df.loc[30:191,'dailly_cases'].values\n",
    "\n",
    "    svm_model.fit(train_data, train_label)\n",
    "    \n",
    "    df3_col_list = df3.columns.tolist()\n",
    "    test_feature_col_list = test_feature.index.tolist()\n",
    "    diff_col = list(set(test_feature_col_list).difference(set(df3_col_list)))\n",
    "    test_data = test_feature.drop(index = diff_col, axis = 1)\n",
    "    test_data = np.array([np.array(test_data.drop([\"day\"]))])\n",
    "    \n",
    "    return math.floor(svm_model.predict(test_data))"
   ]
  },
  {
   "cell_type": "code",
   "execution_count": 90,
   "metadata": {},
   "outputs": [],
   "source": [
    "predicted_cases_part1 = []\n",
    "for idx in range(len(test_features)):\n",
    "    test_feature = test_features.loc[idx]\n",
    "    prediction = predict_COVID_part1(svm_model, train_df, train_labels_df, \n",
    "                                                past_cases_interval, past_weather_interval, test_feature)\n",
    "    predicted_cases_part1.append(prediction)"
   ]
  },
  {
   "cell_type": "code",
   "execution_count": 91,
   "metadata": {},
   "outputs": [
    {
     "name": "stdout",
     "output_type": "stream",
     "text": [
      "[945, 897, 832, 881, 907, 921, 1028, 819, 812, 809, 860, 845, 837, 898, 861, 811, 846, 839, 855, 892]\n"
     ]
    }
   ],
   "source": [
    "print(predicted_cases_part1)"
   ]
  },
  {
   "cell_type": "code",
   "execution_count": 92,
   "metadata": {},
   "outputs": [
    {
     "name": "stdout",
     "output_type": "stream",
     "text": [
      "[0, 0, 0, 0, 0, 0, 0, 0, 0, 0, 0, 0, 0, 0, 0, 0, 0, 0, 0, 0]\n"
     ]
    }
   ],
   "source": [
    "y = [945, 897, 832, 881, 907, 921, 1028, 819, 812, 809, 860, 845, 837, 898, 861, 811, 846, 839, 855, 892]\n",
    "diff = []\n",
    "for i in range(len(y)):\n",
    "    diff.append(y[i]-predicted_cases_part1[i])\n",
    "print(diff)"
   ]
  },
  {
   "cell_type": "code",
   "execution_count": null,
   "metadata": {},
   "outputs": [],
   "source": []
  }
 ],
 "metadata": {
  "kernelspec": {
   "display_name": "Python 3",
   "language": "python",
   "name": "python3"
  },
  "language_info": {
   "codemirror_mode": {
    "name": "ipython",
    "version": 3
   },
   "file_extension": ".py",
   "mimetype": "text/x-python",
   "name": "python",
   "nbconvert_exporter": "python",
   "pygments_lexer": "ipython3",
   "version": "3.8.5"
  }
 },
 "nbformat": 4,
 "nbformat_minor": 4
}
