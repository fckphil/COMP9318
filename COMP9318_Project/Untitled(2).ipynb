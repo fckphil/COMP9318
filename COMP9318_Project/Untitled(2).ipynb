{
 "cells": [
  {
   "cell_type": "code",
   "execution_count": 1,
   "id": "78ccf7a5",
   "metadata": {},
   "outputs": [
    {
     "data": {
      "text/plain": [
       "SVR(C=5000, degree=1, epsilon=10)"
      ]
     },
     "execution_count": 1,
     "metadata": {},
     "output_type": "execute_result"
    }
   ],
   "source": [
    "import submission\n",
    "import numpy as np\n",
    "import pandas as pd\n",
    "from sklearn.svm import SVR\n",
    "from sklearn.metrics import mean_absolute_error\n",
    "import math\n",
    "\n",
    "## Parameters settings\n",
    "past_cases_interval = 10\n",
    "past_weather_interval = 10\n",
    "\n",
    "\n",
    "## Read training data\n",
    "train_file = './data/COVID_train_data.csv'\n",
    "train_df = pd.read_csv(train_file)\n",
    "\n",
    "## Read Training labels\n",
    "train_label_file = './data/COVID_train_labels.csv'\n",
    "train_labels_df = pd.read_csv(train_label_file)\n",
    "\n",
    "\n",
    "## Read testing Features\n",
    "test_fea_file = './data/test_features.csv'\n",
    "test_features = pd.read_csv(test_fea_file)\n",
    "\n",
    "\n",
    "## Set hyper-parameters for the SVM Model\n",
    "svm_model = SVR()\n",
    "svm_model.set_params(**{'kernel': 'rbf', 'degree': 1, 'C': 5000,\n",
    "                        'gamma': 'scale', 'coef0': 0.0, 'tol': 0.001, 'epsilon': 10})\n"
   ]
  },
  {
   "cell_type": "code",
   "execution_count": 2,
   "id": "cb2abd82",
   "metadata": {},
   "outputs": [],
   "source": [
    "def predict_COVID_part1(svm_model, train_df, train_labels_df, past_cases_interval, past_weather_interval, test_feature):\n",
    "\n",
    "    x_train = pd.DataFrame(columns = ['day'], data= [i for i in range(31,len(train_df) + 1)])  #day 31 - 162\n",
    "    y_train = train_labels_df.iloc[30:]                                        #day 31 - 162\n",
    "    consider_features = [\"max_temp\",\"max_dew\",\"max_humid\"]\n",
    "    \n",
    "    ######processing train data\n",
    "    \n",
    "    for feature in (consider_features):\n",
    "        for i in range(past_weather_interval,0, -1):\n",
    "            n_col = feature+\"-\"+str(i)      #name of col, ***-10 to ***-1\n",
    "            x_train[n_col] = -1             #init with value -1\n",
    "            for idx in x_train.index:\n",
    "                x_train.loc[idx,n_col] = train_df.iloc[idx + 30 - i][feature]  #assign the value\n",
    "    \n",
    "    for i in range(past_cases_interval,0, -1):\n",
    "        n_col = \"dailly_cases-\"+str(i)\n",
    "        x_train[n_col] = -1                 #init with -1\n",
    "        for idx in x_train.index:\n",
    "            x_train.loc[idx,n_col] = train_df.iloc[idx + 30 - i]['dailly_cases']\n",
    "    train_features = x_train.columns.tolist()\n",
    "            \n",
    "    #drop the col 'day'\n",
    "    x_train = x_train.drop([\"day\"], axis=1)\n",
    "    y_train = y_train[\"dailly_cases\"]\n",
    "    #convert to np.array\n",
    "    x_train = np.array(x_train)\n",
    "    y_train = np.array(y_train)\n",
    "    \n",
    "    #fit model\n",
    "    svm_model.fit(x_train, y_train)\n",
    "    \n",
    "    #####processing test data\n",
    "    test_fts = test_feature.index.tolist()\n",
    "    for ft in test_fts:\n",
    "        if ft not in train_features:\n",
    "            test_feature = test_feature.drop([ft])\n",
    "    test_feature = test_feature.drop(['day'])\n",
    "    x_test = [np.array(test_feature)]       ##the shape should be [ [] ]\n",
    "   \n",
    "    \n",
    "    return (math.floor(svm_model.predict(x_test)))\n"
   ]
  },
  {
   "cell_type": "code",
   "execution_count": 3,
   "id": "161e4e68",
   "metadata": {},
   "outputs": [
    {
     "name": "stdout",
     "output_type": "stream",
     "text": [
      "[945, 897, 832, 881, 907, 921, 1028, 819, 812, 809, 860, 845, 837, 898, 861, 811, 846, 839, 855, 892]\n"
     ]
    }
   ],
   "source": [
    "## Generate Prediction Results\n",
    "predicted_cases_part1 = []\n",
    "for idx in range(len(test_features)):\n",
    "    test_feature = test_features.loc[idx]\n",
    "    prediction = predict_COVID_part1(svm_model, train_df, train_labels_df, \n",
    "                                                past_cases_interval, past_weather_interval, test_feature)\n",
    "    predicted_cases_part1.append(prediction)\n",
    "\n",
    "\n",
    "print(predicted_cases_part1)"
   ]
  },
  {
   "cell_type": "code",
   "execution_count": null,
   "id": "40c48ed9",
   "metadata": {},
   "outputs": [],
   "source": []
  }
 ],
 "metadata": {
  "kernelspec": {
   "display_name": "Python 3",
   "language": "python",
   "name": "python3"
  },
  "language_info": {
   "codemirror_mode": {
    "name": "ipython",
    "version": 3
   },
   "file_extension": ".py",
   "mimetype": "text/x-python",
   "name": "python",
   "nbconvert_exporter": "python",
   "pygments_lexer": "ipython3",
   "version": "3.6.5"
  }
 },
 "nbformat": 4,
 "nbformat_minor": 5
}
